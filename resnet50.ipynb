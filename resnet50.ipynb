{
 "cells": [
  {
   "cell_type": "code",
   "execution_count": 18,
   "metadata": {},
   "outputs": [],
   "source": [
    "import matplotlib\n",
    "from matplotlib import pyplot as plt\n",
    "import numpy as np \n",
    "import os \n",
    "import PIL\n",
    "import tensorflow as tf \n",
    "from tensorflow import keras\n",
    "from tensorflow.keras import layers\n",
    "from tensorflow.python.keras.layers import Dense, Flatten\n",
    "from tensorflow.keras.models import Sequential \n",
    "from tensorflow.keras.optimizers import Adam"
   ]
  },
  {
   "cell_type": "code",
   "execution_count": 3,
   "metadata": {},
   "outputs": [
    {
     "name": "stdout",
     "output_type": "stream",
     "text": [
      "Downloading data from https://storage.googleapis.com/download.tensorflow.org/example_images/flower_photos.tgz\n",
      "228813984/228813984 [==============================] - 63s 0us/step\n",
      "/Users/leeyilin/.keras/datasets/flower_photos\n"
     ]
    }
   ],
   "source": [
    "import pathlib\n",
    "import ssl\n",
    "try:\n",
    "    _create_unverified_https_context = ssl._create_unverified_context\n",
    "except AttributeError:\n",
    "    pass\n",
    "else:\n",
    "    ssl._create_default_https_context = _create_unverified_https_context\n",
    "\n",
    "dataset_url = \"https://storage.googleapis.com/download.tensorflow.org/example_images/flower_photos.tgz\"\n",
    "data_dir = tf.keras.utils.get_file('flower_photos', origin = dataset_url, untar = True)\n",
    "data_dir = pathlib.Path(data_dir)\n",
    "print(data_dir)"
   ]
  },
  {
   "cell_type": "code",
   "execution_count": null,
   "metadata": {},
   "outputs": [],
   "source": [
    "roses = list(data_dir.glob('roses/*'))\n",
    "PIL.Image.open(str(roses[0]))"
   ]
  },
  {
   "cell_type": "code",
   "execution_count": 7,
   "metadata": {},
   "outputs": [
    {
     "name": "stdout",
     "output_type": "stream",
     "text": [
      "Found 3670 files belonging to 5 classes.\n",
      "Using 2936 files for training.\n"
     ]
    }
   ],
   "source": [
    "img_height, img_width= 180, 180\n",
    "batch_size = 32\n",
    "train_ds = tf.keras.preprocessing.image_dataset_from_directory(\n",
    "    data_dir,\n",
    "    validation_split = 0.2,\n",
    "    subset = \"training\",\n",
    "    seed = 123,\n",
    "    label_mode = \"categorical\",\n",
    "    image_size = (img_height, img_width),\n",
    "    batch_size = batch_size\n",
    ")"
   ]
  },
  {
   "cell_type": "code",
   "execution_count": 8,
   "metadata": {},
   "outputs": [
    {
     "name": "stdout",
     "output_type": "stream",
     "text": [
      "Found 3670 files belonging to 5 classes.\n",
      "Using 1101 files for validation.\n"
     ]
    }
   ],
   "source": [
    "val_ds = tf.keras.preprocessing.image_dataset_from_directory(\n",
    "    data_dir,\n",
    "    validation_split = 0.3,\n",
    "    subset = \"validation\",\n",
    "    seed = 123,\n",
    "    label_mode = \"categorical\",\n",
    "    image_size = (img_height, img_width),\n",
    "    batch_size = batch_size\n",
    ")"
   ]
  },
  {
   "cell_type": "code",
   "execution_count": 9,
   "metadata": {},
   "outputs": [
    {
     "name": "stdout",
     "output_type": "stream",
     "text": [
      "['daisy', 'dandelion', 'roses', 'sunflowers', 'tulips']\n"
     ]
    }
   ],
   "source": [
    "class_names = train_ds.class_names"
   ]
  },
  {
   "cell_type": "code",
   "execution_count": 12,
   "metadata": {},
   "outputs": [
    {
     "name": "stdout",
     "output_type": "stream",
     "text": [
      "Model: \"sequential_2\"\n",
      "_________________________________________________________________\n",
      " Layer (type)                Output Shape              Param #   \n",
      "=================================================================\n",
      " resnet50 (Functional)       (None, 2048)              23587712  \n",
      "                                                                 \n",
      " module_wrapper_3 (ModuleWra  (None, 2048)             0         \n",
      " pper)                                                           \n",
      "                                                                 \n",
      " module_wrapper_4 (ModuleWra  (None, 512)              1049088   \n",
      " pper)                                                           \n",
      "                                                                 \n",
      " module_wrapper_5 (ModuleWra  (None, 5)                2565      \n",
      " pper)                                                           \n",
      "                                                                 \n",
      "=================================================================\n",
      "Total params: 24,639,365\n",
      "Trainable params: 1,051,653\n",
      "Non-trainable params: 23,587,712\n",
      "_________________________________________________________________\n"
     ]
    }
   ],
   "source": [
    "resnet_model = Sequential()\n",
    "\n",
    "pretrained_model = tf.keras.applications.ResNet50(\n",
    "    include_top = False, \n",
    "    input_shape = (180, 180, 3),\n",
    "    pooling = \"avg\",\n",
    "    classes = 5,\n",
    "    weights = \"imagenet\"\n",
    ")\n",
    "for layer in pretrained_model.layers:\n",
    "    layer.trainable = False\n",
    "\n",
    "resnet_model.add(pretrained_model)\n",
    "resnet_model.add(Flatten())\n",
    "resnet_model.add(Dense(512, activation = \"relu\"))\n",
    "resnet_model.add(Dense(5, activation = \"softmax\"))\n",
    "\n",
    "resnet_model.summary()"
   ]
  },
  {
   "cell_type": "code",
   "execution_count": 15,
   "metadata": {},
   "outputs": [],
   "source": [
    "resnet_model.compile(optimizer = Adam(learning_rate = 0.001), loss = \"categorical_crossentropy\", metrics = [\"accuracy\"])"
   ]
  },
  {
   "cell_type": "code",
   "execution_count": 16,
   "metadata": {},
   "outputs": [
    {
     "name": "stdout",
     "output_type": "stream",
     "text": [
      "Epoch 1/10\n",
      "92/92 [==============================] - 210s 2s/step - loss: 0.7789 - accuracy: 0.7612 - val_loss: 0.3437 - val_accuracy: 0.8747\n",
      "Epoch 2/10\n",
      "92/92 [==============================] - 193s 2s/step - loss: 0.2987 - accuracy: 0.8890 - val_loss: 0.3174 - val_accuracy: 0.8874\n",
      "Epoch 3/10\n",
      "92/92 [==============================] - 196s 2s/step - loss: 0.1737 - accuracy: 0.9407 - val_loss: 0.2817 - val_accuracy: 0.9028\n",
      "Epoch 4/10\n",
      "92/92 [==============================] - 198s 2s/step - loss: 0.1054 - accuracy: 0.9687 - val_loss: 0.3878 - val_accuracy: 0.8946\n",
      "Epoch 5/10\n",
      "92/92 [==============================] - 199s 2s/step - loss: 0.0599 - accuracy: 0.9867 - val_loss: 0.2770 - val_accuracy: 0.9146\n",
      "Epoch 6/10\n",
      "92/92 [==============================] - 193s 2s/step - loss: 0.0413 - accuracy: 0.9905 - val_loss: 0.2852 - val_accuracy: 0.9246\n",
      "Epoch 7/10\n",
      "92/92 [==============================] - 188s 2s/step - loss: 0.0223 - accuracy: 0.9966 - val_loss: 0.2981 - val_accuracy: 0.9155\n",
      "Epoch 8/10\n",
      "92/92 [==============================] - 185s 2s/step - loss: 0.0133 - accuracy: 0.9990 - val_loss: 0.3042 - val_accuracy: 0.9246\n",
      "Epoch 9/10\n",
      "92/92 [==============================] - 188s 2s/step - loss: 0.0085 - accuracy: 0.9993 - val_loss: 0.3016 - val_accuracy: 0.9201\n",
      "Epoch 10/10\n",
      "92/92 [==============================] - 191s 2s/step - loss: 0.0048 - accuracy: 1.0000 - val_loss: 0.3020 - val_accuracy: 0.9246\n"
     ]
    }
   ],
   "source": [
    "epochs = 10\n",
    "history = resnet_model.fit(\n",
    "    train_ds,\n",
    "    validation_data = val_ds,\n",
    "    epochs = epochs\n",
    ")"
   ]
  },
  {
   "cell_type": "code",
   "execution_count": 19,
   "metadata": {},
   "outputs": [
    {
     "data": {
      "image/png": "[encoded data removed]",
      "text/plain": [
       "<Figure size 640x480 with 1 Axes>"
      ]
     },
     "metadata": {},
     "output_type": "display_data"
    }
   ],
   "source": [
    "#evaluate the model \n",
    "fig1 = plt.gcf()\n",
    "plt.plot(history.history[\"accuracy\"])\n",
    "plt.plot(history.history[\"val_accuracy\"])\n",
    "plt.axis(ymin=0.4, ymax=1)\n",
    "plt.grid()\n",
    "plt.title(\"Model Accuracy\")\n",
    "plt.ylabel(\"Accuracy\")\n",
    "plt.xlabel(\"Epochs\")\n",
    "plt.legend([\"train\", \"validation\"])\n",
    "plt.show()"
   ]
  },
  {
   "cell_type": "code",
   "execution_count": 22,
   "metadata": {},
   "outputs": [
    {
     "name": "stdout",
     "output_type": "stream",
     "text": [
      "(1, 180, 180, 3)\n",
      "1/1 [==============================] - 2s 2s/step\n",
      "The predicted class is  roses\n"
     ]
    }
   ],
   "source": [
    "#predicting\n",
    "import cv2\n",
    "image = cv2.imread(str(roses[0]))\n",
    "image_resized = cv2.resize(image, (img_height, img_width))\n",
    "image = np.expand_dims(image_resized, axis = 0)\n",
    "print(image.shape)\n",
    "\n",
    "pred = resnet_model.predict(image)\n",
    "output_class = class_names[np.argmax(pred)]\n",
    "print(\"The predicted class is \", output_class)"
   ]
  }
 ],
 "metadata": {
  "kernelspec": {
   "display_name": "Python 3",
   "language": "python",
   "name": "python3"
  },
  "language_info": {
   "codemirror_mode": {
    "name": "ipython",
    "version": 3
   },
   "file_extension": ".py",
   "mimetype": "text/x-python",
   "name": "python",
   "nbconvert_exporter": "python",
   "pygments_lexer": "ipython3",
   "version": "3.10.6"
  },
  "orig_nbformat": 4,
  "vscode": {
   "interpreter": {
    "hash": "aee8b7b246df8f9039afb4144a1f6fd8d2ca17a180786b69acc140d282b71a49"
   }
  }
 },
 "nbformat": 4,
 "nbformat_minor": 2
}
